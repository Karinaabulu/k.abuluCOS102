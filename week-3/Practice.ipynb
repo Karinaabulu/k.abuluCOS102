{
 "cells": [
  {
   "cell_type": "code",
   "execution_count": 1,
   "id": "6db753e4-9b51-44d4-b00b-4569a5392e80",
   "metadata": {},
   "outputs": [
    {
     "name": "stdin",
     "output_type": "stream",
     "text": [
      "Enter a number:  2.0\n"
     ]
    },
    {
     "name": "stdout",
     "output_type": "stream",
     "text": [
      "Positive number\n"
     ]
    }
   ],
   "source": [
    "# Program ro Check if a number is Positive, Negative or 0\n",
    "\n",
    "num = float(input(\"Enter a number: \"))\n",
    "if num > 0:\n",
    "    print(\"Positive number\")\n",
    "elif num == 0:\n",
    "    print(\"Zero\")\n",
    "else:\n",
    "    print(\"Negative number\")"
   ]
  },
  {
   "cell_type": "code",
   "execution_count": 5,
   "id": "68fbeb28-ba0f-42c1-be4d-5fb9a59086c5",
   "metadata": {},
   "outputs": [
    {
     "name": "stdout",
     "output_type": "stream",
     "text": [
      " Welcome to the COUPE DE ESCRIVER 2023: FOOTBALL PICKS \n",
      "\n",
      "Madida:  Chibby Obiora-Okafo\n",
      "Blue-Jays:  Christopher Uweh\n",
      "Cirok:  Alexander\n",
      "TSG Walkers:  Ikechukwu\n",
      "\n",
      "\n",
      "Madida:  Chibby Obiora-Okafo\n",
      "Blue-Jays:  Oladimeji Abaniwondea/Jeffery Awagu\n",
      "Cirok:  Timileyin Pearse/Izuako Jeremy\n",
      "TSG Walkers:  Ayomide Ojituku\n"
     ]
    }
   ],
   "source": [
    "# COUPE DE ESCRIVA 2023: FOOTBALL PICKS\n",
    "\n",
    "print(\" Welcome to the COUPE DE ESCRIVER 2023: FOOTBALL PICKS \\n\")\n",
    "\n",
    "captain = {'Madida: ': 'Chibby Obiora-Okafo', 'Blue-Jays: ': 'Christopher Uweh', 'Cirok: ': 'Alexander', 'TSG Walkers: ': 'Ikechukwu'}\n",
    "\n",
    "goalkeepers = {'Madida: ': 'Chibby Obiora-Okafo', 'Blue-Jays: ': 'Oladimeji Abaniwondea/Jeffery Awagu', 'Cirok: ': 'Timileyin Pearse/Izuako Jeremy', 'TSG Walkers: ': 'Ayomide Ojituku'}\n",
    "\n",
    "for pick in captain:\n",
    "    print(pick, captain[pick])\n",
    "    \n",
    "print(\"\\n\")\n",
    "\n",
    "for pick in goalkeepers:\n",
    "    print(pick, goalkeepers[pick])"
   ]
  },
  {
   "cell_type": "code",
   "execution_count": 9,
   "id": "823e930b-efc2-49f1-b4fd-58762d13f082",
   "metadata": {},
   "outputs": [
    {
     "name": "stdin",
     "output_type": "stream",
     "text": [
      "Enter name of City 1:  Lagos\n",
      "Enter name of City 2:  delta\n"
     ]
    },
    {
     "ename": "NameError",
     "evalue": "name 'city_2' is not defined",
     "output_type": "error",
     "traceback": [
      "\u001b[1;31m---------------------------------------------------------------------------\u001b[0m",
      "\u001b[1;31mNameError\u001b[0m                                 Traceback (most recent call last)",
      "Cell \u001b[1;32mIn[9], line 9\u001b[0m\n\u001b[0;32m      7\u001b[0m \u001b[38;5;66;03m# create a temporary variable and swap the cities\u001b[39;00m\n\u001b[0;32m      8\u001b[0m temp \u001b[38;5;241m=\u001b[39m city_1\n\u001b[1;32m----> 9\u001b[0m city_1 \u001b[38;5;241m=\u001b[39m city_2\n\u001b[0;32m     10\u001b[0m city_2 \u001b[38;5;241m=\u001b[39m temp\n\u001b[0;32m     12\u001b[0m \u001b[38;5;28mprint\u001b[39m(\u001b[38;5;124mf\u001b[39m\u001b[38;5;124m\"\u001b[39m\u001b[38;5;124mThe name of City 1 after swapping is \u001b[39m\u001b[38;5;132;01m{\u001b[39;00mcity_1\u001b[38;5;132;01m}\u001b[39;00m\u001b[38;5;124m\"\u001b[39m)\n",
      "\u001b[1;31mNameError\u001b[0m: name 'city_2' is not defined"
     ]
    }
   ],
   "source": [
    "# Python program to swap two cities\n",
    "\n",
    "# To take inputs from the user\n",
    "city_1 = input('Enter name of City 1: ')\n",
    "ciry_2 = input('Enter name of City 2: ')\n",
    "\n",
    "# create a temporary variable and swap the cities\n",
    "temp = city_1\n",
    "city_1 = city_2\n",
    "city_2 = temp\n",
    "\n",
    "print(f\"The name of City 1 after swapping is {city_1}\")\n",
    "print(f\"The name of City 2 after swapping is {city_2}\")\n"
   ]
  },
  {
   "cell_type": "code",
   "execution_count": null,
   "id": "327beccc-a854-4b58-a74c-e21e575dd035",
   "metadata": {},
   "outputs": [],
   "source": []
  }
 ],
 "metadata": {
  "kernelspec": {
   "display_name": "Python [conda env:base] *",
   "language": "python",
   "name": "conda-base-py"
  },
  "language_info": {
   "codemirror_mode": {
    "name": "ipython",
    "version": 3
   },
   "file_extension": ".py",
   "mimetype": "text/x-python",
   "name": "python",
   "nbconvert_exporter": "python",
   "pygments_lexer": "ipython3",
   "version": "3.12.7"
  }
 },
 "nbformat": 4,
 "nbformat_minor": 5
}
