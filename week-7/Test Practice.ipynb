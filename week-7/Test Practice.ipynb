{
 "cells": [
  {
   "cell_type": "code",
   "execution_count": 1,
   "id": "154e02bc-6276-4742-b81c-8f6cb40d9539",
   "metadata": {},
   "outputs": [
    {
     "name": "stdout",
     "output_type": "stream",
     "text": [
      "Odd and greater than 10\n"
     ]
    }
   ],
   "source": [
    "n = 15\n",
    "if n > 10:\n",
    "    if n % 2 == 0:\n",
    "        result = \"Even and greater than 10\"\n",
    "    else:\n",
    "        result = \"Odd and greater than 10\"\n",
    "else:\n",
    "    result = \"10 or below\"\n",
    "print(result)\n"
   ]
  },
  {
   "cell_type": "code",
   "execution_count": 3,
   "id": "da85cff2-3888-48b2-a95e-ad958e7e629e",
   "metadata": {},
   "outputs": [
    {
     "name": "stdout",
     "output_type": "stream",
     "text": [
      "10 or below\n"
     ]
    }
   ],
   "source": [
    "n = 5\n",
    "if n > 10:\n",
    "    if n % 2 == 0:\n",
    "        result = \"Even over 10\"\n",
    "    else:\n",
    "        result = \"Odd over 10\"\n",
    "else:\n",
    "    result = \"10 or below\"\n",
    "print(result)\n"
   ]
  },
  {
   "cell_type": "code",
   "execution_count": 5,
   "id": "36f2a20a-54c0-4bfd-85ad-18e6ff7cca59",
   "metadata": {},
   "outputs": [
    {
     "name": "stdout",
     "output_type": "stream",
     "text": [
      "Divisible by 3 and at least 10\n"
     ]
    }
   ],
   "source": [
    "n = 12\n",
    "if n >= 10:\n",
    "    if n % 3 == 0:\n",
    "        result = \"Divisible by 3 and at least 10\"\n",
    "    else:\n",
    "        result = \"Not divisible by 3 but at least 10\"\n",
    "else:\n",
    "    result = \"Below 10\"\n",
    "print(result)\n"
   ]
  },
  {
   "cell_type": "code",
   "execution_count": 7,
   "id": "5a15d108-ed0b-4cd5-9a5f-ec1de6714134",
   "metadata": {},
   "outputs": [
    {
     "name": "stdout",
     "output_type": "stream",
     "text": [
      "Multiple of 4 and >15\n"
     ]
    }
   ],
   "source": [
    "n = 20\n",
    "if n > 15:\n",
    "    if n % 4 == 0:\n",
    "        result = \"Multiple of 4 and >15\"\n",
    "    else:\n",
    "        result = \">15 but not multiple of 4\"\n",
    "else:\n",
    "    result = \"15 or below\"\n",
    "print(result)\n"
   ]
  },
  {
   "cell_type": "code",
   "execution_count": 9,
   "id": "cb0c4cf7-7367-43b4-9ea6-6ae903cb2fd6",
   "metadata": {},
   "outputs": [
    {
     "name": "stdout",
     "output_type": "stream",
     "text": [
      "10 or below\n"
     ]
    }
   ],
   "source": [
    "n = 10\n",
    "if n > 10:\n",
    "    if n % 2 == 0:\n",
    "        result = \"Even and >10\"\n",
    "    else:\n",
    "        result = \"Odd and >10\"\n",
    "else:\n",
    "    result = \"10 or below\"\n",
    "print(result)\n"
   ]
  },
  {
   "cell_type": "code",
   "execution_count": 11,
   "id": "57a1629d-eb48-4598-b76a-659e4e44d8e9",
   "metadata": {},
   "outputs": [
    {
     "name": "stdout",
     "output_type": "stream",
     "text": [
      "Even and >10\n"
     ]
    }
   ],
   "source": [
    "n = 14\n",
    "if n > 10:\n",
    "    if n % 2 == 1:\n",
    "        result = \"Odd and >10\"\n",
    "    else:\n",
    "        result = \"Even and >10\"\n",
    "else:\n",
    "    result = \"10 or below\"\n",
    "print(result)\n"
   ]
  },
  {
   "cell_type": "code",
   "execution_count": 24,
   "id": "2f1ebeca-7566-41c2-866c-8f983b3c490c",
   "metadata": {},
   "outputs": [
    {
     "name": "stdout",
     "output_type": "stream",
     "text": [
      "1\n",
      "4\n",
      "9\n",
      "16\n",
      "25\n"
     ]
    }
   ],
   "source": [
    "count = 0\n",
    "for i in range(1, 10, 2):\n",
    "    count += i\n",
    "    print(count)\n"
   ]
  },
  {
   "cell_type": "code",
   "execution_count": 26,
   "id": "73d200c5-55a1-41c6-88d0-0eec5a7d8d95",
   "metadata": {},
   "outputs": [
    {
     "name": "stdout",
     "output_type": "stream",
     "text": [
      "2\n",
      "6\n",
      "12\n",
      "20\n",
      "30\n"
     ]
    }
   ],
   "source": [
    "count = 0\n",
    "for i in range(2, 11, 2):\n",
    "    count += i\n",
    "    print(count)\n"
   ]
  },
  {
   "cell_type": "code",
   "execution_count": 28,
   "id": "f56c5fe3-31ad-41fe-8929-3d9d1ebdf27a",
   "metadata": {},
   "outputs": [
    {
     "name": "stdout",
     "output_type": "stream",
     "text": [
      "0\n",
      "3\n",
      "9\n",
      "18\n"
     ]
    }
   ],
   "source": [
    "count = 0\n",
    "for i in range(0, 10, 3):\n",
    "    count += i\n",
    "    print(count)\n"
   ]
  },
  {
   "cell_type": "code",
   "execution_count": 30,
   "id": "62c17ff5-d698-48c8-bac7-500a967a3f18",
   "metadata": {},
   "outputs": [
    {
     "name": "stdout",
     "output_type": "stream",
     "text": [
      "1\n",
      "2\n",
      "3\n",
      "4\n",
      "5\n",
      "6\n",
      "7\n",
      "8\n",
      "9\n",
      "10\n"
     ]
    }
   ],
   "source": [
    "count = 0\n",
    "for i in range(5, 15):\n",
    "    count += 1\n",
    "    print(count)\n"
   ]
  },
  {
   "cell_type": "code",
   "execution_count": 32,
   "id": "cacc8a8b-27d4-4895-8eca-66c19c5d8a87",
   "metadata": {},
   "outputs": [
    {
     "name": "stdout",
     "output_type": "stream",
     "text": [
      "2\n",
      "6\n",
      "12\n",
      "20\n",
      "30\n"
     ]
    }
   ],
   "source": [
    "count = 0\n",
    "for i in range(1, 6):\n",
    "    count += i * 2\n",
    "    print(count)\n"
   ]
  },
  {
   "cell_type": "code",
   "execution_count": 34,
   "id": "6247c76b-de10-458f-af9b-f699aea6a3f5",
   "metadata": {},
   "outputs": [
    {
     "name": "stdout",
     "output_type": "stream",
     "text": [
      "1\n",
      "3\n",
      "6\n",
      "10\n",
      "15\n",
      "21\n",
      "28\n",
      "36\n",
      "45\n"
     ]
    }
   ],
   "source": [
    "count = 0\n",
    "for i in range(2, 20, 2):\n",
    "    count += i // 2\n",
    "    print(count)"
   ]
  },
  {
   "cell_type": "code",
   "execution_count": 36,
   "id": "f5b1ac94-e16d-41c0-ba4f-d4e9d4e8e3be",
   "metadata": {},
   "outputs": [
    {
     "name": "stdout",
     "output_type": "stream",
     "text": [
      "1\n",
      "6\n",
      "15\n"
     ]
    }
   ],
   "source": [
    "count = 0\n",
    "for i in range(0, 12, 4):\n",
    "    count += i + 1\n",
    "    print(count)\n"
   ]
  },
  {
   "cell_type": "code",
   "execution_count": null,
   "id": "2ae1da20-59e8-49f9-b6f5-6eafc642db78",
   "metadata": {},
   "outputs": [],
   "source": []
  }
 ],
 "metadata": {
  "kernelspec": {
   "display_name": "Python [conda env:base] *",
   "language": "python",
   "name": "conda-base-py"
  },
  "language_info": {
   "codemirror_mode": {
    "name": "ipython",
    "version": 3
   },
   "file_extension": ".py",
   "mimetype": "text/x-python",
   "name": "python",
   "nbconvert_exporter": "python",
   "pygments_lexer": "ipython3",
   "version": "3.12.7"
  }
 },
 "nbformat": 4,
 "nbformat_minor": 5
}
