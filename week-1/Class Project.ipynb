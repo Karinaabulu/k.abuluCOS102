{
 "cells": [
  {
   "cell_type": "code",
   "execution_count": 61,
   "id": "40987963-0ec6-4676-8a44-c0aba431407d",
   "metadata": {},
   "outputs": [
    {
     "name": "stdin",
     "output_type": "stream",
     "text": [
      "Enter the principal amount:  3.0\n",
      "Enter the intrest rate:  2\n",
      "Enter the time in year:  1\n"
     ]
    },
    {
     "name": "stdout",
     "output_type": "stream",
     "text": [
      "3.06\n"
     ]
    }
   ],
   "source": [
    "# Simple Intrest\n",
    "\n",
    "P = float(input(\"Enter the principal amount: \"))\n",
    "R = float(input(\"Enter the intrest rate: \"))\n",
    "T = int(input(\"Enter the time in year: \"))\n",
    "A = P *(1 + (R / 100) * T)\n",
    "print(A)"
   ]
  },
  {
   "cell_type": "code",
   "execution_count": 59,
   "id": "29e6adb9-4bd4-4456-89cc-ab2a5d5b4eea",
   "metadata": {},
   "outputs": [
    {
     "name": "stdin",
     "output_type": "stream",
     "text": [
      "Enter the principal amount:  4.0\n",
      "Enter the annual intrest rate (in decimal):  3.0\n",
      "Enter the number of time interest is compounded per year:  2\n",
      "Enter the time in years:  1\n"
     ]
    },
    {
     "name": "stdout",
     "output_type": "stream",
     "text": [
      "25.0\n"
     ]
    }
   ],
   "source": [
    "# Compound Interest\n",
    "\n",
    "P = float(input(\"Enter the principal amount: \"))\n",
    "R = float(input(\"Enter the annual intrest rate (in decimal): \")) \n",
    "n = int(input(\"Enter the number of time interest is compounded per year: \"))\n",
    "t = int(input(\"Enter the time in years: \")) \n",
    "A = P*(1 + R / n) ** (n * t) \n",
    "print(A)"
   ]
  },
  {
   "cell_type": "code",
   "execution_count": 57,
   "id": "1379e626-32d2-4e26-a7c8-96162fc2c884",
   "metadata": {},
   "outputs": [
    {
     "name": "stdin",
     "output_type": "stream",
     "text": [
      "Enter annuity amount:  5.0\n",
      "Enter the annual interest rate (in decimal):  4.0\n",
      "Enter the number of time interest is compounded per year:  3\n",
      "Enter the time in years:  2\n"
     ]
    },
    {
     "name": "stdout",
     "output_type": "stream",
     "text": [
      "601.4403292181065\n"
     ]
    }
   ],
   "source": [
    "#Annuity Plan\n",
    "\n",
    "PMT = float(input(\"Enter annuity amount: \"))\n",
    "R = float(input(\"Enter the annual interest rate (in decimal): \"))\n",
    "n = int(input(\"Enter the number of time interest is compounded per year: \"))\n",
    "t = int(input(\"Enter the time in years: \")) \n",
    "A = PMT * (((1 + R / n) ** (n * t) -1) / (R / n))\n",
    "print(A)"
   ]
  },
  {
   "cell_type": "code",
   "execution_count": null,
   "id": "8ef1b9a1-c62a-4166-9531-34e0b11486b4",
   "metadata": {},
   "outputs": [],
   "source": []
  }
 ],
 "metadata": {
  "kernelspec": {
   "display_name": "Python [conda env:base] *",
   "language": "python",
   "name": "conda-base-py"
  },
  "language_info": {
   "codemirror_mode": {
    "name": "ipython",
    "version": 3
   },
   "file_extension": ".py",
   "mimetype": "text/x-python",
   "name": "python",
   "nbconvert_exporter": "python",
   "pygments_lexer": "ipython3",
   "version": "3.12.7"
  }
 },
 "nbformat": 4,
 "nbformat_minor": 5
}
