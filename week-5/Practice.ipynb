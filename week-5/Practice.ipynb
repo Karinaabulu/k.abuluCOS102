{
 "cells": [
  {
   "cell_type": "code",
   "execution_count": 7,
   "id": "3add8b9f-fec9-43fe-a366-77e8830a6065",
   "metadata": {},
   "outputs": [],
   "source": [
    "import tkinter as tk\n",
    "from tkinter import messagebox as msgbox\n",
    "\n",
    "# Handling button click event\n",
    "def button_click():\n",
    "    #print(\"Button clicked!\")\n",
    "\n",
    "    # Show an information message box\n",
    "    msgbox.showinfo(\"Info\",\"Welcome to COS 102 GUI App! \\n*\")\n",
    "    \n",
    "    # Ask for user confirmation\n",
    "    result = msgbox.askyesno (\"Confirmation\", \"Do you want to continue?\")\n",
    "    \n",
    "   \n",
    "# Create the main window\n",
    "root = tk.Tk()\n",
    "root.title (\"Home Page\") \n",
    "root.geometry(\"300x100\")\n",
    "\n",
    "# Add a Label widget\n",
    "label = tk.Label(root, text=\"Hello Friend \\n\")\n",
    "label. pack()\n",
    "\n",
    "# Add a button widget\n",
    "button = tk.Button(root, text=\"Click Me!\", command=button_click)\n",
    "button.pack()\n",
    "\n",
    "# Styling the button widget\n",
    "button.config(fg=\"red\", bg=\"yellow\")\n",
    "\n",
    "# Start the event Loop\n",
    "root.mainloop()"
   ]
  },
  {
   "cell_type": "code",
   "execution_count": 17,
   "id": "e5b450b3-b06f-40cb-920c-b8f9cee136fb",
   "metadata": {},
   "outputs": [],
   "source": [
    "import tkinter as tk \n",
    "from tkinter import messagebox \n",
    "from PIL import Image, ImageTk\n",
    "\n",
    "def welcomeMessage (username):\n",
    "    # Create a Tkinter window\n",
    "    window = tk. Toplevel(root)\n",
    "    window.title(\"Admin Box\")\n",
    "    window.geometry (\"500x200\")\n",
    "    \n",
    "    label_1 = tk. Label(window, text=f\"Welcome {username}\\n\")\n",
    "    label_1. pack()\n",
    "    label_2 = tk. Label(window, text=\"This is Python GUI with Tkinter\")\n",
    "    label_2. pack()\n",
    "    \n",
    "\n",
    "    # Run the Tkinter event loop\n",
    "root .mainloop()\n",
    "\n",
    "def submit():\n",
    "    username = username_entry.get()\n",
    "    password = password_entry.get()\n",
    "    \n",
    "    if username == \"Mary\" and password == \"cos102\" :\n",
    "        welcomeMessage (username)\n",
    "    else:\n",
    "        messagebox. showerror (\"Login\", \"Invalid username or password\")"
   ]
  },
  {
   "cell_type": "code",
   "execution_count": null,
   "id": "7d9d8d87-ff4d-43bb-b2e3-22a51a9d655f",
   "metadata": {},
   "outputs": [],
   "source": []
  }
 ],
 "metadata": {
  "kernelspec": {
   "display_name": "Python [conda env:base] *",
   "language": "python",
   "name": "conda-base-py"
  },
  "language_info": {
   "codemirror_mode": {
    "name": "ipython",
    "version": 3
   },
   "file_extension": ".py",
   "mimetype": "text/x-python",
   "name": "python",
   "nbconvert_exporter": "python",
   "pygments_lexer": "ipython3",
   "version": "3.12.7"
  }
 },
 "nbformat": 4,
 "nbformat_minor": 5
}
