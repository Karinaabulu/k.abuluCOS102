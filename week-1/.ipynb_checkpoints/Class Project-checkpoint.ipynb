{
 "cells": [
  {
   "cell_type": "code",
   "execution_count": 35,
   "id": "40987963-0ec6-4676-8a44-c0aba431407d",
   "metadata": {},
   "outputs": [
    {
     "name": "stdin",
     "output_type": "stream",
     "text": [
      "Enter the principal amount:  9.0\n",
      "Enter the intrest rate:  10.0\n",
      "Enter the time in year:  5.0\n"
     ]
    },
    {
     "name": "stdout",
     "output_type": "stream",
     "text": [
      "13.5\n"
     ]
    }
   ],
   "source": [
    "# Simple Intrest\n",
    "\n",
    "P = float(input(\"Enter the principal amount: \"))\n",
    "R = float(input(\"Enter the intrest rate: \"))\n",
    "T = float(input(\"Enter the time in year: \"))\n",
    "A = P *(1 + (R / 100) * T)\n",
    "print(A)"
   ]
  },
  {
   "cell_type": "code",
   "execution_count": 37,
   "id": "29e6adb9-4bd4-4456-89cc-ab2a5d5b4eea",
   "metadata": {},
   "outputs": [
    {
     "name": "stdin",
     "output_type": "stream",
     "text": [
      "Enter the principal amount:  7.0\n",
      "Enter the annual intrest rate:  6.0\n",
      "Enter the number:  5.0\n",
      "Enter the time in years:  4.0\n"
     ]
    },
    {
     "name": "stdout",
     "output_type": "stream",
     "text": [
      "49380064.90804836\n"
     ]
    }
   ],
   "source": [
    "# Compound Interest\n",
    "\n",
    "P = float(input(\"Enter the principal amount: \"))\n",
    "R = float(input(\"Enter the annual intrest rate: \")) \n",
    "n = float(input(\"Enter the number: \"))\n",
    "t = float(input(\"Enter the time in years: \"))\n",
    "A = P*(1 + R / n) ** (n * t)\n",
    "print(A)"
   ]
  },
  {
   "cell_type": "code",
   "execution_count": null,
   "id": "1379e626-32d2-4e26-a7c8-96162fc2c884",
   "metadata": {},
   "outputs": [],
   "source": []
  }
 ],
 "metadata": {
  "kernelspec": {
   "display_name": "Python [conda env:base] *",
   "language": "python",
   "name": "conda-base-py"
  },
  "language_info": {
   "codemirror_mode": {
    "name": "ipython",
    "version": 3
   },
   "file_extension": ".py",
   "mimetype": "text/x-python",
   "name": "python",
   "nbconvert_exporter": "python",
   "pygments_lexer": "ipython3",
   "version": "3.12.7"
  }
 },
 "nbformat": 4,
 "nbformat_minor": 5
}
