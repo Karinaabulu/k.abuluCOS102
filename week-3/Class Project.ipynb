{
 "cells": [
  {
   "cell_type": "code",
   "execution_count": 1,
   "id": "85993043-101d-474b-a6d5-ad237b8007b3",
   "metadata": {},
   "outputs": [
    {
     "name": "stdin",
     "output_type": "stream",
     "text": [
      "Enter years of experience:  40\n",
      "Enter age of staff:  50\n"
     ]
    },
    {
     "name": "stdout",
     "output_type": "stream",
     "text": [
      "The Annual Tax Revenue (ATR) is: N4480000\n"
     ]
    }
   ],
   "source": [
    "def calculate_atr(years_of_experience, age):\n",
    "    if years_of_experience > 25 and age >= 55:\n",
    "        return 5600000\n",
    "    elif years_of_experience > 20 and age >= 45:\n",
    "        return 4480000\n",
    "    elif years_of_experience > 10 and age >= 35:\n",
    "        return 1500000\n",
    "    else:\n",
    "        return 550000\n",
    "\n",
    "# Example usage:\n",
    "years = int(input(\"Enter years of experience: \"))\n",
    "age = int(input(\"Enter age of staff: \"))\n",
    "atr = calculate_atr(years, age)\n",
    "print(f\"The Annual Tax Revenue (ATR) is: N{atr}\")"
   ]
  },
  {
   "cell_type": "code",
   "execution_count": 3,
   "id": "8d5d7143-9c02-4ae3-aeea-28991952abee",
   "metadata": {},
   "outputs": [
    {
     "name": "stdout",
     "output_type": "stream",
     "text": [
      "Name       Age   Height  Score \n",
      "------------------------------\n",
      "Evelyn     17    5.5     80    \n",
      "Jessica    16    6.0     85    \n",
      "Somto      17    5.4     70    \n",
      "Edith      18    5.9     60    \n",
      "Liza       16    5.6     76    \n",
      "Madonna    18    5.5     66    \n",
      "Waje       17    6.1     87    \n",
      "Tola       20    6.0     95    \n",
      "Aisha      19    5.7     50    \n",
      "Latifa     17    5.5     49    \n",
      "Chinedu    19    5.7     74    \n",
      "Liam       16    5.9     87    \n",
      "Wale       18    5.8     75    \n",
      "Gbenga     17    6.1     68    \n",
      "Abiola     20    5.9     66    \n",
      "Kola       19    5.5     78    \n",
      "Kunle      16    6.1     87    \n",
      "George     18    5.4     98    \n",
      "Thomas     17    5.8     54    \n",
      "Wesley     19    5.7     60    \n"
     ]
    }
   ],
   "source": [
    " # Data for the class\n",
    "girls = [\n",
    "    {\"Name\": \"Evelyn\", \"Age\": 17, \"Height\": 5.5, \"Score\": 80},\n",
    "    {\"Name\": \"Jessica\", \"Age\": 16, \"Height\": 6.0, \"Score\": 85},\n",
    "    {\"Name\": \"Somto\", \"Age\": 17, \"Height\": 5.4, \"Score\": 70},\n",
    "    {\"Name\": \"Edith\", \"Age\": 18, \"Height\": 5.9, \"Score\": 60},\n",
    "    {\"Name\": \"Liza\", \"Age\": 16, \"Height\": 5.6, \"Score\": 76},\n",
    "    {\"Name\": \"Madonna\", \"Age\": 18, \"Height\": 5.5, \"Score\": 66},\n",
    "    {\"Name\": \"Waje\", \"Age\": 17, \"Height\": 6.1, \"Score\": 87},\n",
    "    {\"Name\": \"Tola\", \"Age\": 20, \"Height\": 6.0, \"Score\": 95},\n",
    "    {\"Name\": \"Aisha\", \"Age\": 19, \"Height\": 5.7, \"Score\": 50},\n",
    "    {\"Name\": \"Latifa\", \"Age\": 17, \"Height\": 5.5, \"Score\": 49},\n",
    "]\n",
    "\n",
    "boys = [\n",
    "    {\"Name\": \"Chinedu\", \"Age\": 19, \"Height\": 5.7, \"Score\": 74},\n",
    "    {\"Name\": \"Liam\", \"Age\": 16, \"Height\": 5.9, \"Score\": 87},\n",
    "    {\"Name\": \"Wale\", \"Age\": 18, \"Height\": 5.8, \"Score\": 75},\n",
    "    {\"Name\": \"Gbenga\", \"Age\": 17, \"Height\": 6.1, \"Score\": 68},\n",
    "    {\"Name\": \"Abiola\", \"Age\": 20, \"Height\": 5.9, \"Score\": 66},\n",
    "    {\"Name\": \"Kola\", \"Age\": 19, \"Height\": 5.5, \"Score\": 78},\n",
    "    {\"Name\": \"Kunle\", \"Age\": 16, \"Height\": 6.1, \"Score\": 87},\n",
    "    {\"Name\": \"George\", \"Age\": 18, \"Height\": 5.4, \"Score\": 98},\n",
    "    {\"Name\": \"Thomas\", \"Age\": 17, \"Height\": 5.8, \"Score\": 54},\n",
    "    {\"Name\": \"Wesley\", \"Age\": 19, \"Height\": 5.7, \"Score\": 60},\n",
    "]\n",
    "\n",
    "# Merge girls' and boys' data\n",
    "students = girls + boys\n",
    "\n",
    "# Display the table\n",
    "print(f\"{'Name':<10} {'Age':<5} {'Height':<7} {'Score':<6}\")\n",
    "print(\"-\" * 30)\n",
    "for student in students:\n",
    "    print(f\"{student['Name']:<10} {student['Age']:<5} {student['Height']:<7} {student['Score']:<6}\")"
   ]
  },
  {
   "cell_type": "code",
   "execution_count": null,
   "id": "45fca61f-d9c3-4e8b-ae77-46be19d5e6a2",
   "metadata": {},
   "outputs": [],
   "source": []
  }
 ],
 "metadata": {
  "kernelspec": {
   "display_name": "Python [conda env:base] *",
   "language": "python",
   "name": "conda-base-py"
  },
  "language_info": {
   "codemirror_mode": {
    "name": "ipython",
    "version": 3
   },
   "file_extension": ".py",
   "mimetype": "text/x-python",
   "name": "python",
   "nbconvert_exporter": "python",
   "pygments_lexer": "ipython3",
   "version": "3.12.7"
  }
 },
 "nbformat": 4,
 "nbformat_minor": 5
}
